{
 "cells": [
  {
   "cell_type": "markdown",
   "id": "8ea5f2a5",
   "metadata": {},
   "source": [
    "### olefile"
   ]
  },
  {
   "cell_type": "code",
   "execution_count": 4,
   "id": "30f16e30",
   "metadata": {},
   "outputs": [],
   "source": [
    "import olefile\n",
    "import os\n",
    "import win32com.client\n",
    "def extract_text_from_hwp(file_path):\n",
    "    \n",
    "    if not olefile.isOleFile(file_path):\n",
    "        print(\"Not a vaild HWP file\")\n",
    "        return \"\"\n",
    "    \n",
    "    ole = olefile.OleFileIO(file_path)\n",
    "    try:\n",
    "        content = ole.openstream(\"PrvText\").read()\n",
    "        text = content.decode(\"utf-16\")\n",
    "        return text\n",
    "    except Exception as e:\n",
    "        print(f\"❌ 텍스트 추출 실패: {e}\")\n",
    "        return \"\"\n",
    "\n",
    "hwp_text = extract_text_from_hwp(\"./data/(붙임 1) 2025년도 AI기반맞춤형케어서비스융합선도(R&D) 신규지원 대상과제 공고문.hwp\")\n",
    "\n",
    "os.makedirs(\"test\", exist_ok=True)\n",
    "\n",
    "with open(\"hwp_load_ouput.txt\", \"w\", encoding=\"utf-8\") as f:\n",
    "    f.write(hwp_text)"
   ]
  },
  {
   "cell_type": "code",
   "execution_count": null,
   "id": "62d12d46",
   "metadata": {},
   "outputs": [],
   "source": []
  },
  {
   "cell_type": "code",
   "execution_count": null,
   "id": "d837266a",
   "metadata": {},
   "outputs": [
    {
     "name": "stdout",
     "output_type": "stream",
     "text": [
      "📂 입력 파일: ./data/(붙임 1) 2025년도 AI기반맞춤형케어서비스융합선도(R&D) 신규지원 대상과제 공고문.hwp\n",
      "📄 출력 파일: ./test/2025_AI_지원사업_변환.pdf\n",
      "❌ HWP 변환 실패: <unknown>.GetActionList\n"
     ]
    },
    {
     "data": {
      "text/plain": [
       "False"
      ]
     },
     "execution_count": 14,
     "metadata": {},
     "output_type": "execute_result"
    }
   ],
   "source": [
    "import os\n",
    "import win32com.client\n",
    "import pythoncom\n",
    "\n",
    "pythoncom.CoInitialize()\n",
    "\n",
    "def convert_hwp_to_pdf(hwp_path, pdf_path):\n",
    "    print(f\"📂 입력 파일: {hwp_path}\")\n",
    "    print(f\"📄 출력 파일: {pdf_path}\")\n",
    "\n",
    "    if not os.path.exists(hwp_path):\n",
    "        print(\"❌ HWP 파일이 존재하지 않습니다.\")\n",
    "        return False\n",
    "\n",
    "    os.makedirs(os.path.dirname(pdf_path), exist_ok=True)\n",
    "\n",
    "    try:\n",
    "        hwp = win32com.client.Dispatch(\"HWPFrame.HwpObject\")\n",
    "        \n",
    "        \n",
    "        hwp.RegisterModule(\"FilePathCheckDLL\", \"SecurityModule\")\n",
    "        hwp.Open(hwp_path)\n",
    "\n",
    "        # ✅ PDF로 저장 (매개변수 세트 초기화 포함)\n",
    "        hwp.HAction.GetDefault(\"FileSaveAsPdf\", hwp.HParameterSet.HFileOpenSave.HSet)\n",
    "        hwp.HParameterSet.HFileOpenSave.HSet.SetDefault()  # ← 이거 꼭 필요!!\n",
    "        hwp.HParameterSet.HFileOpenSave.filename = os.path.abspath(pdf_path)\n",
    "        hwp.HAction.Execute(\"FileSaveAsPdf\", hwp.HParameterSet.HFileOpenSave.HSet)\n",
    "\n",
    "        hwp.Quit()\n",
    "        print(f\"📝 변환 성공 → {pdf_path}\")\n",
    "        return True\n",
    "\n",
    "    except Exception as e:\n",
    "        print(f\"❌ HWP 변환 실패: {e}\")\n",
    "        return False\n",
    "\n",
    "\n",
    "# 테스트\n",
    "hwp_path = \"./data/(붙임 1) 2025년도 AI기반맞춤형케어서비스융합선도(R&D) 신규지원 대상과제 공고문.hwp\"\n",
    "pdf_path = \"./test/2025_AI_지원사업_변환.pdf\"\n",
    "\n",
    "convert_hwp_to_pdf(hwp_path, pdf_path)\n"
   ]
  }
 ],
 "metadata": {
  "kernelspec": {
   "display_name": "rag (.venv)",
   "language": "python",
   "name": ".venv"
  },
  "language_info": {
   "codemirror_mode": {
    "name": "ipython",
    "version": 3
   },
   "file_extension": ".py",
   "mimetype": "text/x-python",
   "name": "python",
   "nbconvert_exporter": "python",
   "pygments_lexer": "ipython3",
   "version": "3.13.3"
  }
 },
 "nbformat": 4,
 "nbformat_minor": 5
}
